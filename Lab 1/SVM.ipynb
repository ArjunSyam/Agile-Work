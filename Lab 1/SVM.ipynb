{
 "cells": [
  {
   "cell_type": "code",
   "execution_count": 8,
   "id": "65a0296b",
   "metadata": {},
   "outputs": [],
   "source": [
    "#SVM - Support Vector Machine\n",
    "import numpy as np\n",
    "import matplotlib.pyplot as plt\n",
    "import pandas as pd\n",
    "from sklearn.svm import SVC"
   ]
  },
  {
   "cell_type": "code",
   "execution_count": 2,
   "id": "86f009d6",
   "metadata": {},
   "outputs": [],
   "source": [
    "X = [[30],[40],[50],[60],[20],[10],[70]]\n",
    "y = [0,1,1,1,0,0,1]"
   ]
  },
  {
   "cell_type": "code",
   "execution_count": 10,
   "id": "9fd74d4a",
   "metadata": {},
   "outputs": [],
   "source": [
    "x_train = X[0:4]\n",
    "y_train = y[0:4]\n",
    "x_test = X[4:]\n",
    "y_test = y[4:]"
   ]
  },
  {
   "cell_type": "code",
   "execution_count": 11,
   "id": "ba41d770",
   "metadata": {},
   "outputs": [
    {
     "name": "stdout",
     "output_type": "stream",
     "text": [
      "[0 0 1]\n"
     ]
    }
   ],
   "source": [
    "classifier = SVC(kernel = \"linear\", random_state = 0)\n",
    "classifier.fit(x_train,y_train)\n",
    "print(classifier.predict(x_test))"
   ]
  },
  {
   "cell_type": "code",
   "execution_count": null,
   "id": "8f529668",
   "metadata": {},
   "outputs": [],
   "source": []
  }
 ],
 "metadata": {
  "kernelspec": {
   "display_name": "Python 3 (ipykernel)",
   "language": "python",
   "name": "python3"
  },
  "language_info": {
   "codemirror_mode": {
    "name": "ipython",
    "version": 3
   },
   "file_extension": ".py",
   "mimetype": "text/x-python",
   "name": "python",
   "nbconvert_exporter": "python",
   "pygments_lexer": "ipython3",
   "version": "3.11.5"
  }
 },
 "nbformat": 4,
 "nbformat_minor": 5
}
